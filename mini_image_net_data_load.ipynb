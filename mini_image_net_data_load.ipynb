{
 "cells": [
  {
   "cell_type": "code",
   "execution_count": null,
   "metadata": {},
   "outputs": [],
   "source": [
    "!pip install easyfsl"
   ]
  },
  {
   "cell_type": "code",
   "execution_count": null,
   "metadata": {},
   "outputs": [],
   "source": [
    "import torch\n",
    "from torch import nn, optim\n",
    "from torch.utils.data import DataLoader\n",
    "from torchvision import transforms\n",
    "from torchvision.datasets import Omniglot\n",
    "from torchvision.models import resnet18\n",
    "from tqdm import tqdm\n",
    "\n",
    "from easyfsl.data_tools import TaskSampler\n",
    "from easyfsl.utils import plot_images, sliding_average"
   ]
  },
  {
   "cell_type": "code",
   "execution_count": 2,
   "metadata": {},
   "outputs": [],
   "source": [
    "import numpy as np\n",
    "import pandas as pd\n",
    "import cv2 \n",
    "import os\n",
    "from PIL import Image\n",
    "from matplotlib import pyplot as plt"
   ]
  },
  {
   "cell_type": "markdown",
   "metadata": {},
   "source": [
    "read csvs and append filenames only in list"
   ]
  },
  {
   "cell_type": "code",
   "execution_count": 11,
   "metadata": {},
   "outputs": [],
   "source": [
    "name = pd.read_csv(\"Ravi/train.csv\")\n",
    "name.head(1)\n",
    "name.loc[:,\"filename\"]\n",
    "img_names = name['filename'].tolist() #list of names \n",
    "    "
   ]
  },
  {
   "cell_type": "markdown",
   "metadata": {},
   "source": [
    "load the data "
   ]
  },
  {
   "cell_type": "code",
   "execution_count": null,
   "metadata": {},
   "outputs": [],
   "source": [
    "#this is running like infinity loop i guess\n",
    "path = \"images/images\"\n",
    "train_set = []\n",
    "\n",
    "for i in range(len(img_names)):\n",
    "    k = img_names[i]\n",
    "    \n",
    "    for k in os.listdir(path):\n",
    "        img = cv2.imread(os.path.join(path,k))\n",
    "        if img is not None:\n",
    "            train_set.append(img)\n",
    "    i = i+1\n",
    "#plt.imshow(img)\n",
    "#plt.show()\n",
    "\n",
    "\n",
    "\n",
    "    "
   ]
  },
  {
   "cell_type": "code",
   "execution_count": null,
   "metadata": {},
   "outputs": [],
   "source": [
    "#function to load images\n",
    "path = \"images/images\"\n",
    "\n",
    "def load_images_from_folder(folder):\n",
    "    images = []\n",
    "    for filename in os.listdir(folder):\n",
    "        img = cv2.imread(os.path.join(folder,filename))\n",
    "        \n",
    "        if img is not None:\n",
    "            images.append(img)\n",
    "    return images\n",
    "load_images_from_folder(path)"
   ]
  },
  {
   "cell_type": "code",
   "execution_count": 28,
   "metadata": {},
   "outputs": [
    {
     "name": "stdout",
     "output_type": "stream",
     "text": [
      "1\n",
      "4\n",
      "2\n",
      "8\n",
      "7\n"
     ]
    }
   ],
   "source": [
    "#rough work\n",
    "data = [1,2,4,7,8]\n",
    "index = [1,4,2,8,7]\n",
    "for i in range(len(index)):\n",
    "    k = index[i]\n",
    "    #print(k)\n",
    "    for i in range(len(data)):\n",
    "        if data[i] == k:\n",
    "            print(data[i])\n",
    "   \n",
    "    "
   ]
  },
  {
   "cell_type": "code",
   "execution_count": null,
   "metadata": {},
   "outputs": [],
   "source": []
  }
 ],
 "metadata": {
  "kernelspec": {
   "display_name": "Python 3",
   "language": "python",
   "name": "python3"
  },
  "language_info": {
   "codemirror_mode": {
    "name": "ipython",
    "version": 3
   },
   "file_extension": ".py",
   "mimetype": "text/x-python",
   "name": "python",
   "nbconvert_exporter": "python",
   "pygments_lexer": "ipython3",
   "version": "3.8.5"
  }
 },
 "nbformat": 4,
 "nbformat_minor": 4
}
